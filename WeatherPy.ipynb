{
 "cells": [
  {
   "cell_type": "markdown",
   "metadata": {},
   "source": [
    "**Module 6  APIs**\n",
    "- Perform tasks using new Python libraries and modules.\n",
    "\n",
    "- Retrieve and use data from an API \"get\" request to a server.\n",
    "\n",
    "- Retrieve and store values from a JSON array.\n",
    "\n",
    "- Use try and except blocks to resolve errors.\n",
    "\n",
    "- Write Python functions.\n",
    "\n",
    "- Create scatter plots using the Matplotlib library, and apply styles and features to a plot.\n",
    "\n",
    "- Perform linear regression, and add regression lines to scatter plots.\n",
    "\n",
    "- Create heatmaps, and add markers using the Google Maps API."
   ]
  },
  {
   "cell_type": "markdown",
   "metadata": {},
   "source": [
    "**Project Plan**\n",
    "Basic Project Plan\n",
    "\n",
    "\n",
    "Task: Collect and analyze weather data across cities worldwide.\n",
    "\n",
    "Purpose: PlanMyTrip will use the data to recommend ideal hotels based on clients' weather preferences.\n",
    "\n",
    "Method: Create a Pandas DataFrame with 500 or more of the world's unique cities and their weather data in real time. This process will entail collecting, analyzing, and visualizing the data.\n",
    "\n",
    "The analysis of the data will be split into three main parts, or stages.\n",
    "\n",
    "Collect the Data\n",
    "\n",
    "- Use the NumPy module to generate more than 1,500 random latitudes and longitudes.\n",
    "\n",
    "- Use the citipy module to list the nearest city to the latitudes and longitudes.\n",
    "\n",
    "- Use the OpenWeatherMap API to request the current weather data from each unique city in your list.\n",
    "\n",
    "- Parse the JSON data from the API request.\n",
    "\n",
    "- Collect the following data from the JSON file and add it to a DataFrame:\n",
    "\n",
    "- City, country, and date\n",
    "\n",
    "- Latitude and longitude\n",
    "\n",
    "- Maximum temperature\n",
    "\n",
    "- Humidity\n",
    "\n",
    "- Cloudiness\n",
    "\n",
    "- Wind speed\n",
    "\n",
    "- Exploratory Analysis with Visualization\n",
    "\n",
    "Create scatter plots of the weather data for the following comparisons:\n",
    "- Latitude versus temperature\n",
    "\n",
    "- Latitude versus humidity\n",
    "\n",
    "- Latitude versus cloudiness\n",
    "\n",
    "- Latitude versus wind speed\n",
    "\n",
    "- Determine the correlations for the following weather data:\n",
    "\n",
    "- Latitude and temperature\n",
    "\n",
    "- Latitude and humidity\n",
    "\n",
    "- Latitude and cloudiness\n",
    "\n",
    "- Latitude and wind speed\n",
    "\n",
    "- Create a series of heatmaps using the Google Maps and Places API that showcases the following:\n",
    "\n",
    "- Latitude and temperature\n",
    "\n",
    "- Latitude and humidity\n",
    "\n",
    "- Latitude and cloudiness\n",
    "\n",
    "- Latitude and wind speed\n",
    "\n",
    "- Visualize Travel Data\n",
    "\n",
    "Create a heatmap with pop-up markers that can display information on specific cities based on a customer's travel preferences. Complete these steps:\n",
    "\n",
    "\n",
    "- Filter the Pandas DataFrame based on user inputs for a minimum and maximum temperature.\n",
    "\n",
    "- Create a heatmap for the new DataFrame.\n",
    "\n",
    "- Find a hotel from the cities' coordinates using Google's Maps and Places API, and Search Nearby feature.\n",
    "\n",
    "- Store the name of the first hotel in the DataFrame.\n",
    "\n",
    "- Add pop-up markers to the heatmap that display information about the city, current maximum temperature, and a hotel in the city."
   ]
  },
  {
   "cell_type": "markdown",
   "metadata": {},
   "source": [
    "#### Collect the data\n"
   ]
  },
  {
   "cell_type": "code",
   "execution_count": 1,
   "metadata": {
    "ExecuteTime": {
     "end_time": "2021-03-27T03:08:16.421652Z",
     "start_time": "2021-03-27T03:08:15.835838Z"
    }
   },
   "outputs": [],
   "source": [
    "#Import the dependencies\n",
    "import pandas as pd\n",
    "import matplotlib.pyplot as plt\n",
    "import numpy as np"
   ]
  },
  {
   "cell_type": "markdown",
   "metadata": {},
   "source": [
    "Add the code that generates the latitudes and longitudes, but first, they need to be stored so that we can access them later. Since we are creating arrays of latitudes and longitudes, we'll declare each array as a variable.\n",
    "\n",
    "In the next cell, add the following code that we used to generate the random latitudes. Also, we'll create a similar code snippet that will generate longitudes. To ensure enough latitudes and longitudes, we'll start with 1,500. In addition, we'll pack the latitudes (lats) and longitudes (lngs) as pairs by zipping them (lat_lngs) with the zip() function."
   ]
  },
  {
   "cell_type": "code",
   "execution_count": 2,
   "metadata": {
    "ExecuteTime": {
     "end_time": "2021-03-27T03:08:16.429601Z",
     "start_time": "2021-03-27T03:08:16.422585Z"
    }
   },
   "outputs": [
    {
     "data": {
      "text/plain": [
       "<zip at 0x28262c4c408>"
      ]
     },
     "execution_count": 2,
     "metadata": {},
     "output_type": "execute_result"
    }
   ],
   "source": [
    "# Create a set of random latitude and longitude combinations.\n",
    "lats = np.random.uniform(low=-90.000, high=90.000, size=1500 )\n",
    "lngs = np.random.uniform(low=-180.000, high=180.000, size=1500 )\n",
    "lat_lngs = zip(lats, lngs)\n",
    "lat_lngs"
   ]
  },
  {
   "cell_type": "code",
   "execution_count": 3,
   "metadata": {
    "ExecuteTime": {
     "end_time": "2021-03-27T03:08:16.538066Z",
     "start_time": "2021-03-27T03:08:16.431596Z"
    }
   },
   "outputs": [],
   "source": [
    "#add the latitudes and longitudes to a list.\n",
    "coordinates = list(lat_lngs)"
   ]
  },
  {
   "cell_type": "markdown",
   "metadata": {},
   "source": [
    "Add citipy.   From Module 6.1.5"
   ]
  },
  {
   "cell_type": "code",
   "execution_count": 4,
   "metadata": {
    "ExecuteTime": {
     "end_time": "2021-03-27T03:08:17.622561Z",
     "start_time": "2021-03-27T03:08:16.541059Z"
    }
   },
   "outputs": [],
   "source": [
    "# import citipy\n",
    "from citipy import citipy\n"
   ]
  },
  {
   "cell_type": "code",
   "execution_count": 5,
   "metadata": {
    "ExecuteTime": {
     "end_time": "2021-03-27T03:08:18.468611Z",
     "start_time": "2021-03-27T03:08:17.624566Z"
    }
   },
   "outputs": [
    {
     "data": {
      "text/plain": [
       "578"
      ]
     },
     "execution_count": 5,
     "metadata": {},
     "output_type": "execute_result"
    }
   ],
   "source": [
    "#create a list for holding the cities.\n",
    "cities = []\n",
    "#Indentify the nearest city for each latitude adn longitude combination.\n",
    "for coordinate in coordinates:\n",
    "    city = citipy.nearest_city(coordinate[0], coordinate[1]).city_name\n",
    "    \n",
    "    # if the city in unique, then we will add it to the cities list.\n",
    "    if city not in cities:\n",
    "        cities.append(city)\n",
    "        \n",
    "#Print the city count to confirm sufficient count.\n",
    "len(cities)\n",
    "    "
   ]
  },
  {
   "cell_type": "code",
   "execution_count": null,
   "metadata": {},
   "outputs": [],
   "source": []
  }
 ],
 "metadata": {
  "kernelspec": {
   "display_name": "PythonData",
   "language": "python",
   "name": "pythondata"
  },
  "language_info": {
   "codemirror_mode": {
    "name": "ipython",
    "version": 3
   },
   "file_extension": ".py",
   "mimetype": "text/x-python",
   "name": "python",
   "nbconvert_exporter": "python",
   "pygments_lexer": "ipython3",
   "version": "3.7.9"
  },
  "toc": {
   "base_numbering": 1,
   "nav_menu": {},
   "number_sections": true,
   "sideBar": true,
   "skip_h1_title": false,
   "title_cell": "Table of Contents",
   "title_sidebar": "Contents",
   "toc_cell": false,
   "toc_position": {},
   "toc_section_display": true,
   "toc_window_display": false
  },
  "varInspector": {
   "cols": {
    "lenName": 16,
    "lenType": 16,
    "lenVar": 40
   },
   "kernels_config": {
    "python": {
     "delete_cmd_postfix": "",
     "delete_cmd_prefix": "del ",
     "library": "var_list.py",
     "varRefreshCmd": "print(var_dic_list())"
    },
    "r": {
     "delete_cmd_postfix": ") ",
     "delete_cmd_prefix": "rm(",
     "library": "var_list.r",
     "varRefreshCmd": "cat(var_dic_list()) "
    }
   },
   "types_to_exclude": [
    "module",
    "function",
    "builtin_function_or_method",
    "instance",
    "_Feature"
   ],
   "window_display": false
  }
 },
 "nbformat": 4,
 "nbformat_minor": 4
}
